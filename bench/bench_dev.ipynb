{
 "cells": [
  {
   "cell_type": "code",
   "execution_count": 12,
   "metadata": {},
   "outputs": [],
   "source": [
    "import time"
   ]
  },
  {
   "cell_type": "code",
   "execution_count": 13,
   "metadata": {},
   "outputs": [],
   "source": [
    "TOP_ANGLE_VALUE = 1737.0\n",
    "BOT_ANGLE_VALUE = 1223.0"
   ]
  },
  {
   "cell_type": "code",
   "execution_count": 14,
   "metadata": {},
   "outputs": [],
   "source": [
    "from angle_sensor import AngleSensor"
   ]
  },
  {
   "cell_type": "code",
   "execution_count": 15,
   "metadata": {},
   "outputs": [],
   "source": [
    "angle_sensor = AngleSensor('/dev/ttyACM0')\n",
    "angle_sensor.start()"
   ]
  },
  {
   "cell_type": "code",
   "execution_count": 16,
   "metadata": {},
   "outputs": [
    {
     "data": {
      "text/plain": [
       "1530.0"
      ]
     },
     "execution_count": 16,
     "metadata": {},
     "output_type": "execute_result"
    }
   ],
   "source": [
    "angle_sensor.get_value()"
   ]
  },
  {
   "cell_type": "code",
   "execution_count": 16,
   "metadata": {},
   "outputs": [],
   "source": [
    "angle_sensor.terminate()"
   ]
  },
  {
   "cell_type": "code",
   "execution_count": null,
   "metadata": {},
   "outputs": [],
   "source": []
  },
  {
   "cell_type": "code",
   "execution_count": null,
   "metadata": {},
   "outputs": [],
   "source": []
  },
  {
   "cell_type": "code",
   "execution_count": 17,
   "metadata": {},
   "outputs": [],
   "source": [
    "from ros_loop import RosLoop"
   ]
  },
  {
   "cell_type": "code",
   "execution_count": 18,
   "metadata": {},
   "outputs": [],
   "source": [
    "ros_loop = RosLoop()"
   ]
  },
  {
   "cell_type": "code",
   "execution_count": null,
   "metadata": {},
   "outputs": [],
   "source": []
  },
  {
   "cell_type": "code",
   "execution_count": 19,
   "metadata": {},
   "outputs": [],
   "source": [
    "from myobrick import MyoBrick"
   ]
  },
  {
   "cell_type": "code",
   "execution_count": 20,
   "metadata": {},
   "outputs": [],
   "source": [
    "myobrick_flex = MyoBrick(1)\n",
    "myobrick_extend = MyoBrick(3)"
   ]
  },
  {
   "cell_type": "code",
   "execution_count": 21,
   "metadata": {},
   "outputs": [],
   "source": [
    "ros_loop.start()"
   ]
  },
  {
   "cell_type": "code",
   "execution_count": null,
   "metadata": {},
   "outputs": [],
   "source": []
  },
  {
   "cell_type": "code",
   "execution_count": 22,
   "metadata": {},
   "outputs": [],
   "source": [
    "from data_recorder import DataRecorder"
   ]
  },
  {
   "cell_type": "code",
   "execution_count": 23,
   "metadata": {},
   "outputs": [],
   "source": [
    "data_recorder = DataRecorder(\n",
    "    20,\n",
    "    'dataset1.csv',\n",
    "    myobrick_flex,\n",
    "    myobrick_extend,\n",
    "    angle_sensor\n",
    ")"
   ]
  },
  {
   "cell_type": "code",
   "execution_count": 24,
   "metadata": {},
   "outputs": [],
   "source": [
    "data_recorder.start()"
   ]
  },
  {
   "cell_type": "code",
   "execution_count": 28,
   "metadata": {},
   "outputs": [],
   "source": [
    "data_recorder.stop()"
   ]
  },
  {
   "cell_type": "code",
   "execution_count": 25,
   "metadata": {},
   "outputs": [],
   "source": [
    "def joint_is_within_safe_zone():\n",
    "    if angle_sensor.get_value() < BOT_ANGLE_VALUE + 50:\n",
    "        return False\n",
    "    if angle_sensor.get_value() > TOP_ANGLE_VALUE - 50:\n",
    "        return False\n",
    "    \n",
    "    return True"
   ]
  },
  {
   "cell_type": "code",
   "execution_count": 26,
   "metadata": {},
   "outputs": [
    {
     "data": {
      "text/plain": [
       "True"
      ]
     },
     "execution_count": 26,
     "metadata": {},
     "output_type": "execute_result"
    }
   ],
   "source": [
    "joint_is_within_safe_zone()"
   ]
  },
  {
   "cell_type": "code",
   "execution_count": 27,
   "metadata": {},
   "outputs": [
    {
     "ename": "KeyboardInterrupt",
     "evalue": "",
     "output_type": "error",
     "traceback": [
      "\u001b[0;31m---------------------------------------------------------------------------\u001b[0m",
      "\u001b[0;31mKeyboardInterrupt\u001b[0m                         Traceback (most recent call last)",
      "\u001b[0;32m<ipython-input-27-69fa469c7d27>\u001b[0m in \u001b[0;36m<module>\u001b[0;34m\u001b[0m\n\u001b[1;32m     21\u001b[0m         \u001b[0mmyobrick_flex\u001b[0m\u001b[0;34m.\u001b[0m\u001b[0mset_pwm\u001b[0m\u001b[0;34m(\u001b[0m\u001b[0;34m-\u001b[0m\u001b[0;36m2\u001b[0m\u001b[0;34m)\u001b[0m\u001b[0;34m\u001b[0m\u001b[0;34m\u001b[0m\u001b[0m\n\u001b[1;32m     22\u001b[0m \u001b[0;34m\u001b[0m\u001b[0m\n\u001b[0;32m---> 23\u001b[0;31m     \u001b[0mtime\u001b[0m\u001b[0;34m.\u001b[0m\u001b[0msleep\u001b[0m\u001b[0;34m(\u001b[0m\u001b[0;36m0.1\u001b[0m\u001b[0;34m)\u001b[0m\u001b[0;34m\u001b[0m\u001b[0;34m\u001b[0m\u001b[0m\n\u001b[0m",
      "\u001b[0;31mKeyboardInterrupt\u001b[0m: "
     ]
    }
   ],
   "source": [
    "direction = 1 # 1 for flex, 0 for extend\n",
    "while True:\n",
    "    if not joint_is_within_safe_zone():\n",
    "        myobrick_extend.set_pwm(0)\n",
    "        myobrick_flex.set_pwm(0)\n",
    "        break\n",
    "\n",
    "    if angle_sensor.get_value() > TOP_ANGLE_VALUE - 100:\n",
    "        direction = 0\n",
    "\n",
    "    if angle_sensor.get_value() < BOT_ANGLE_VALUE + 100:\n",
    "        direction = 1\n",
    "        \n",
    "\n",
    "    if direction == 1:\n",
    "        myobrick_extend.set_pwm(-2)\n",
    "        myobrick_flex.set_pwm(7)\n",
    "\n",
    "    if direction == 0:\n",
    "        myobrick_extend.set_pwm(7)\n",
    "        myobrick_flex.set_pwm(-2)\n",
    "\n",
    "    time.sleep(0.1)\n"
   ]
  },
  {
   "cell_type": "code",
   "execution_count": 1,
   "metadata": {},
   "outputs": [],
   "source": [
    "import db1"
   ]
  },
  {
   "cell_type": "code",
   "execution_count": 4,
   "metadata": {},
   "outputs": [],
   "source": [
    "import pandas as pd"
   ]
  },
  {
   "cell_type": "code",
   "execution_count": 29,
   "metadata": {},
   "outputs": [],
   "source": [
    "df = pd.read_csv('dataset1.csv')"
   ]
  },
  {
   "cell_type": "code",
   "execution_count": 30,
   "metadata": {},
   "outputs": [],
   "source": [
    "df = df.set_axis(\n",
    "    [\n",
    "        'timestamp',\n",
    "        'angle',\n",
    "        'flex_pv_pos_encoder',\n",
    "        'flex_pv_torque_encoder',\n",
    "        'flex_pv_current',\n",
    "        'flex_sp_pwm',\n",
    "        'extend_pv_pos_encoder',\n",
    "        'extend_pv_torque_encoder',\n",
    "        'extend_pv_current',\n",
    "        'extend_sp_pwm'\n",
    "    ],\n",
    "    axis=1, inplace=False)"
   ]
  },
  {
   "cell_type": "code",
   "execution_count": 31,
   "metadata": {},
   "outputs": [
    {
     "data": {
      "text/html": [
       "<div>\n",
       "<style scoped>\n",
       "    .dataframe tbody tr th:only-of-type {\n",
       "        vertical-align: middle;\n",
       "    }\n",
       "\n",
       "    .dataframe tbody tr th {\n",
       "        vertical-align: top;\n",
       "    }\n",
       "\n",
       "    .dataframe thead th {\n",
       "        text-align: right;\n",
       "    }\n",
       "</style>\n",
       "<table border=\"1\" class=\"dataframe\">\n",
       "  <thead>\n",
       "    <tr style=\"text-align: right;\">\n",
       "      <th></th>\n",
       "      <th>timestamp</th>\n",
       "      <th>angle</th>\n",
       "      <th>flex_pv_pos_encoder</th>\n",
       "      <th>flex_pv_torque_encoder</th>\n",
       "      <th>flex_pv_current</th>\n",
       "      <th>flex_sp_pwm</th>\n",
       "      <th>extend_pv_pos_encoder</th>\n",
       "      <th>extend_pv_torque_encoder</th>\n",
       "      <th>extend_pv_current</th>\n",
       "      <th>extend_sp_pwm</th>\n",
       "    </tr>\n",
       "  </thead>\n",
       "  <tbody>\n",
       "    <tr>\n",
       "      <th>0</th>\n",
       "      <td>1.670597e+09</td>\n",
       "      <td>1531.0</td>\n",
       "      <td>2.517861</td>\n",
       "      <td>-44082.0</td>\n",
       "      <td>0.0875</td>\n",
       "      <td>0</td>\n",
       "      <td>-0.516989</td>\n",
       "      <td>-104.0</td>\n",
       "      <td>0.1125</td>\n",
       "      <td>0</td>\n",
       "    </tr>\n",
       "    <tr>\n",
       "      <th>1</th>\n",
       "      <td>1.670597e+09</td>\n",
       "      <td>1531.0</td>\n",
       "      <td>2.517861</td>\n",
       "      <td>-44082.0</td>\n",
       "      <td>0.0750</td>\n",
       "      <td>0</td>\n",
       "      <td>-0.516989</td>\n",
       "      <td>-104.0</td>\n",
       "      <td>0.0625</td>\n",
       "      <td>0</td>\n",
       "    </tr>\n",
       "    <tr>\n",
       "      <th>2</th>\n",
       "      <td>1.670597e+09</td>\n",
       "      <td>1532.0</td>\n",
       "      <td>2.517861</td>\n",
       "      <td>-44082.0</td>\n",
       "      <td>0.1000</td>\n",
       "      <td>0</td>\n",
       "      <td>-0.516989</td>\n",
       "      <td>-104.0</td>\n",
       "      <td>0.0875</td>\n",
       "      <td>0</td>\n",
       "    </tr>\n",
       "    <tr>\n",
       "      <th>3</th>\n",
       "      <td>1.670597e+09</td>\n",
       "      <td>1531.0</td>\n",
       "      <td>2.517861</td>\n",
       "      <td>-44082.0</td>\n",
       "      <td>0.1125</td>\n",
       "      <td>0</td>\n",
       "      <td>-0.516989</td>\n",
       "      <td>-104.0</td>\n",
       "      <td>0.0000</td>\n",
       "      <td>0</td>\n",
       "    </tr>\n",
       "    <tr>\n",
       "      <th>4</th>\n",
       "      <td>1.670597e+09</td>\n",
       "      <td>1531.0</td>\n",
       "      <td>2.517861</td>\n",
       "      <td>-44082.0</td>\n",
       "      <td>0.0875</td>\n",
       "      <td>0</td>\n",
       "      <td>-0.516989</td>\n",
       "      <td>-104.0</td>\n",
       "      <td>0.0375</td>\n",
       "      <td>0</td>\n",
       "    </tr>\n",
       "    <tr>\n",
       "      <th>...</th>\n",
       "      <td>...</td>\n",
       "      <td>...</td>\n",
       "      <td>...</td>\n",
       "      <td>...</td>\n",
       "      <td>...</td>\n",
       "      <td>...</td>\n",
       "      <td>...</td>\n",
       "      <td>...</td>\n",
       "      <td>...</td>\n",
       "      <td>...</td>\n",
       "    </tr>\n",
       "    <tr>\n",
       "      <th>821</th>\n",
       "      <td>1.670597e+09</td>\n",
       "      <td>1479.0</td>\n",
       "      <td>2.144064</td>\n",
       "      <td>-43475.0</td>\n",
       "      <td>0.0500</td>\n",
       "      <td>0</td>\n",
       "      <td>-0.193496</td>\n",
       "      <td>-49.0</td>\n",
       "      <td>-0.0125</td>\n",
       "      <td>0</td>\n",
       "    </tr>\n",
       "    <tr>\n",
       "      <th>822</th>\n",
       "      <td>1.670597e+09</td>\n",
       "      <td>1480.0</td>\n",
       "      <td>2.144064</td>\n",
       "      <td>-43475.0</td>\n",
       "      <td>0.0625</td>\n",
       "      <td>0</td>\n",
       "      <td>-0.193496</td>\n",
       "      <td>-49.0</td>\n",
       "      <td>0.1500</td>\n",
       "      <td>0</td>\n",
       "    </tr>\n",
       "    <tr>\n",
       "      <th>823</th>\n",
       "      <td>1.670597e+09</td>\n",
       "      <td>1479.0</td>\n",
       "      <td>2.144064</td>\n",
       "      <td>-43475.0</td>\n",
       "      <td>0.1375</td>\n",
       "      <td>0</td>\n",
       "      <td>-0.193496</td>\n",
       "      <td>-49.0</td>\n",
       "      <td>0.0125</td>\n",
       "      <td>0</td>\n",
       "    </tr>\n",
       "    <tr>\n",
       "      <th>824</th>\n",
       "      <td>1.670597e+09</td>\n",
       "      <td>1479.0</td>\n",
       "      <td>2.144064</td>\n",
       "      <td>-43475.0</td>\n",
       "      <td>0.0250</td>\n",
       "      <td>0</td>\n",
       "      <td>-0.193496</td>\n",
       "      <td>-49.0</td>\n",
       "      <td>0.1375</td>\n",
       "      <td>0</td>\n",
       "    </tr>\n",
       "    <tr>\n",
       "      <th>825</th>\n",
       "      <td>1.670597e+09</td>\n",
       "      <td>1480.0</td>\n",
       "      <td>2.144064</td>\n",
       "      <td>-43475.0</td>\n",
       "      <td>0.0625</td>\n",
       "      <td>0</td>\n",
       "      <td>-0.193496</td>\n",
       "      <td>-49.0</td>\n",
       "      <td>0.0625</td>\n",
       "      <td>0</td>\n",
       "    </tr>\n",
       "  </tbody>\n",
       "</table>\n",
       "<p>826 rows × 10 columns</p>\n",
       "</div>"
      ],
      "text/plain": [
       "        timestamp   angle  flex_pv_pos_encoder  flex_pv_torque_encoder  \\\n",
       "0    1.670597e+09  1531.0             2.517861                -44082.0   \n",
       "1    1.670597e+09  1531.0             2.517861                -44082.0   \n",
       "2    1.670597e+09  1532.0             2.517861                -44082.0   \n",
       "3    1.670597e+09  1531.0             2.517861                -44082.0   \n",
       "4    1.670597e+09  1531.0             2.517861                -44082.0   \n",
       "..            ...     ...                  ...                     ...   \n",
       "821  1.670597e+09  1479.0             2.144064                -43475.0   \n",
       "822  1.670597e+09  1480.0             2.144064                -43475.0   \n",
       "823  1.670597e+09  1479.0             2.144064                -43475.0   \n",
       "824  1.670597e+09  1479.0             2.144064                -43475.0   \n",
       "825  1.670597e+09  1480.0             2.144064                -43475.0   \n",
       "\n",
       "     flex_pv_current  flex_sp_pwm  extend_pv_pos_encoder  \\\n",
       "0             0.0875            0              -0.516989   \n",
       "1             0.0750            0              -0.516989   \n",
       "2             0.1000            0              -0.516989   \n",
       "3             0.1125            0              -0.516989   \n",
       "4             0.0875            0              -0.516989   \n",
       "..               ...          ...                    ...   \n",
       "821           0.0500            0              -0.193496   \n",
       "822           0.0625            0              -0.193496   \n",
       "823           0.1375            0              -0.193496   \n",
       "824           0.0250            0              -0.193496   \n",
       "825           0.0625            0              -0.193496   \n",
       "\n",
       "     extend_pv_torque_encoder  extend_pv_current  extend_sp_pwm  \n",
       "0                      -104.0             0.1125              0  \n",
       "1                      -104.0             0.0625              0  \n",
       "2                      -104.0             0.0875              0  \n",
       "3                      -104.0             0.0000              0  \n",
       "4                      -104.0             0.0375              0  \n",
       "..                        ...                ...            ...  \n",
       "821                     -49.0            -0.0125              0  \n",
       "822                     -49.0             0.1500              0  \n",
       "823                     -49.0             0.0125              0  \n",
       "824                     -49.0             0.1375              0  \n",
       "825                     -49.0             0.0625              0  \n",
       "\n",
       "[826 rows x 10 columns]"
      ]
     },
     "execution_count": 31,
     "metadata": {},
     "output_type": "execute_result"
    }
   ],
   "source": [
    "df"
   ]
  },
  {
   "cell_type": "code",
   "execution_count": 32,
   "metadata": {},
   "outputs": [],
   "source": [
    "bench_data_item = db1.Item('bench_data')"
   ]
  },
  {
   "cell_type": "code",
   "execution_count": 33,
   "metadata": {},
   "outputs": [],
   "source": [
    "bench_data_item.val = df"
   ]
  },
  {
   "cell_type": "code",
   "execution_count": null,
   "metadata": {},
   "outputs": [],
   "source": []
  }
 ],
 "metadata": {
  "kernelspec": {
   "display_name": "roboy",
   "language": "python",
   "name": "python3"
  },
  "language_info": {
   "codemirror_mode": {
    "name": "ipython",
    "version": 3
   },
   "file_extension": ".py",
   "mimetype": "text/x-python",
   "name": "python",
   "nbconvert_exporter": "python",
   "pygments_lexer": "ipython3",
   "version": "3.8.8"
  },
  "orig_nbformat": 4,
  "vscode": {
   "interpreter": {
    "hash": "7d2fff5cdf594d09d02a480e25a9fa2b36cf6108b5be88dd4b0e97eab11c9786"
   }
  }
 },
 "nbformat": 4,
 "nbformat_minor": 2
}
